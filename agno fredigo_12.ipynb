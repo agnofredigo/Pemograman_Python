{
  "nbformat": 4,
  "nbformat_minor": 0,
  "metadata": {
    "colab": {
      "name": "kalkulator digo.ipynb",
      "provenance": [],
      "authorship_tag": "ABX9TyMo6TnOi82Wpkwia8sE0byD",
      "include_colab_link": true
    },
    "kernelspec": {
      "name": "python3",
      "display_name": "Python 3"
    }
  },
  "cells": [
    {
      "cell_type": "markdown",
      "metadata": {
        "id": "view-in-github",
        "colab_type": "text"
      },
      "source": [
        "<a href=\"https://colab.research.google.com/github/agnofredigo/Pemograman_Python/blob/main/agno%20fredigo_12.ipynb\" target=\"_parent\"><img src=\"https://colab.research.google.com/assets/colab-badge.svg\" alt=\"Open In Colab\"/></a>"
      ]
    },
    {
      "cell_type": "code",
      "metadata": {
        "id": "JSzo6CFCLoBl",
        "colab": {
          "base_uri": "https://localhost:8080/"
        },
        "outputId": "f175a212-de60-442a-f5a3-c6669b3492ec"
      },
      "source": [
        "fc = int(input(\"Masukkan frekuensi 400MHz-2000MHz: \"))\r\n",
        "ht = int(input(\"Masukkan tinggi antena pemancar 30-200 meter: \"))\r\n",
        "hr = int(input(\"Masukkan tinggi antena penerima 1-30 meter: \"))\r\n",
        "d = int(input(\"Masukkan jarak dalam kilometer: \"))\r\n",
        "area = input(\"masukkan tipe area: \")"
      ],
      "execution_count": 59,
      "outputs": [
        {
          "output_type": "stream",
          "text": [
            "Masukkan frekuensi 400MHz-2000MHz: 555\n",
            "Masukkan tinggi antena pemancar 30-200 meter: 60\n",
            "Masukkan tinggi antena penerima 1-30 meter: 24\n",
            "Masukkan jarak dalam kilometer: 500\n",
            "masukkan tipe area: suburban\n"
          ],
          "name": "stdout"
        }
      ]
    },
    {
      "cell_type": "code",
      "metadata": {
        "id": "cArqS-NGmIQG"
      },
      "source": [
        "import numpy as np"
      ],
      "execution_count": 60,
      "outputs": []
    },
    {
      "cell_type": "code",
      "metadata": {
        "id": "2dROxd-4IC-k"
      },
      "source": [
        "NtL = lambda x: 10*np.log10(x)"
      ],
      "execution_count": 61,
      "outputs": []
    },
    {
      "cell_type": "code",
      "metadata": {
        "id": "_ucTblHWIbv0"
      },
      "source": [
        "LtN = lambda x: 10**(x/10)"
      ],
      "execution_count": 62,
      "outputs": []
    },
    {
      "cell_type": "code",
      "metadata": {
        "id": "pMDXT3OVFAcj"
      },
      "source": [
        "def cesatu (D):\r\n",
        "  if D in range (400,1500):\r\n",
        "    return 69.55\r\n",
        "    \r\n",
        "  elif D in range (1500,2000):\r\n",
        "    return 46.3"
      ],
      "execution_count": 63,
      "outputs": []
    },
    {
      "cell_type": "code",
      "metadata": {
        "id": "rpSWdOyXGMR3"
      },
      "source": [
        "def cedua (D):\r\n",
        "  if D in range (400,1500):\r\n",
        "    return 26.16\r\n",
        "    \r\n",
        "  elif D in range (1500,2000):\r\n",
        "    return 33.9"
      ],
      "execution_count": 64,
      "outputs": []
    },
    {
      "cell_type": "code",
      "metadata": {
        "id": "f78mg5lCJ2_V"
      },
      "source": [
        "def cem (area,fc):\r\n",
        "  if area == \"urban\":\r\n",
        "    return 0\r\n",
        "  if area == \"suburban\":\r\n",
        "    return -2*(np.log10(fc/28)**2 - 5.4)\r\n",
        "  if area == \"open\":\r\n",
        "    return -4.78*(np.log10(fc))**2 + 18.33*np.log10(fc)- 40.94"
      ],
      "execution_count": 65,
      "outputs": []
    },
    {
      "cell_type": "code",
      "metadata": {
        "id": "brP30AHxIN0x"
      },
      "source": [
        "def aher(D):\r\n",
        "  return (1.1*np.log10(D)-0.7)*hr - (1.56*np.log10(D)-0.8)"
      ],
      "execution_count": 66,
      "outputs": []
    },
    {
      "cell_type": "code",
      "metadata": {
        "id": "MUxkX3EWZGwi"
      },
      "source": [
        "c1 = cesatu(fc)\r\n",
        "c2 = cedua(fc)\r\n",
        "cm = cem(area,fc)\r\n",
        "ahr = aher(fc)"
      ],
      "execution_count": 67,
      "outputs": []
    },
    {
      "cell_type": "code",
      "metadata": {
        "colab": {
          "base_uri": "https://localhost:8080/"
        },
        "id": "IU-tvEb1ZV1m",
        "outputId": "b35581e5-4110-4f88-8bd5-2e715d6e285c"
      },
      "source": [
        "print(c1)\r\n",
        "print(c2)\r\n",
        "print(cm)\r\n",
        "print(ahr)"
      ],
      "execution_count": 68,
      "outputs": [
        {
          "output_type": "stream",
          "text": [
            "69.55\n",
            "26.16\n",
            "7.4348818337390234\n",
            "52.16823770076728\n"
          ],
          "name": "stdout"
        }
      ]
    },
    {
      "cell_type": "code",
      "metadata": {
        "id": "_RWlosFdLhlO",
        "colab": {
          "base_uri": "https://localhost:8080/"
        },
        "outputId": "19c1d025-1594-44b6-905f-9466bbf0eaeb"
      },
      "source": [
        "\n",
        "pldb = c1 + c2*np.log10(fc) - 13.83*np.log10(ht) - ahr + (44.9-6.55*np.log10(ht))*np.log10(d) + cm\n",
        "print(\"Pathloss adalah: \", pldb , \" db\")\n",
        " "
      ],
      "execution_count": 69,
      "outputs": [
        {
          "output_type": "stream",
          "text": [
            "Pathloss adalah:  161.76466135721722  db\n"
          ],
          "name": "stdout"
        }
      ]
    }
  ]
}